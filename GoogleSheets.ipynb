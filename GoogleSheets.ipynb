{
 "cells": [
  {
   "cell_type": "code",
   "execution_count": 73,
   "metadata": {},
   "outputs": [
    {
     "data": {
      "text/plain": [
       "<Spreadsheet 'Pegasus - DEV' id:1Kd0NMRPhyIN6Ewi2pa4_mmXYUm1D9GYDjcw_7Fcm1TY>"
      ]
     },
     "execution_count": 73,
     "metadata": {},
     "output_type": "execute_result"
    }
   ],
   "source": [
    "from database import dbconnection\n",
    "from database.schema  import schema\n",
    "\n",
    "db = dbconnection.DbConnection()\n",
    "db.connect()\n"
   ]
  },
  {
   "cell_type": "code",
   "execution_count": 77,
   "metadata": {},
   "outputs": [
    {
     "data": {
      "text/html": [
       "<div>\n",
       "<style scoped>\n",
       "    .dataframe tbody tr th:only-of-type {\n",
       "        vertical-align: middle;\n",
       "    }\n",
       "\n",
       "    .dataframe tbody tr th {\n",
       "        vertical-align: top;\n",
       "    }\n",
       "\n",
       "    .dataframe thead th {\n",
       "        text-align: right;\n",
       "    }\n",
       "</style>\n",
       "<table border=\"1\" class=\"dataframe\">\n",
       "  <thead>\n",
       "    <tr style=\"text-align: right;\">\n",
       "      <th></th>\n",
       "      <th>DS_Description</th>\n",
       "      <th>DS_Category</th>\n",
       "    </tr>\n",
       "  </thead>\n",
       "  <tbody>\n",
       "    <tr>\n",
       "      <th>0</th>\n",
       "      <td>COMPRA CARTAO - COMPRA no estabelecimento BK N...</td>\n",
       "      <td>alimentação</td>\n",
       "    </tr>\n",
       "    <tr>\n",
       "      <th>1</th>\n",
       "      <td>COMPRA CARTAO - COMPRA no estabelecimento SHOW...</td>\n",
       "      <td>alimentação</td>\n",
       "    </tr>\n",
       "    <tr>\n",
       "      <th>2</th>\n",
       "      <td>COMPRA CARTAO - COMPRA no estabelecimento IFD*...</td>\n",
       "      <td>alimentação</td>\n",
       "    </tr>\n",
       "    <tr>\n",
       "      <th>3</th>\n",
       "      <td>COMPRA CARTAO - COMPRA no estabelecimento ESTR...</td>\n",
       "      <td>alimentação</td>\n",
       "    </tr>\n",
       "    <tr>\n",
       "      <th>4</th>\n",
       "      <td>COMPRA CARTAO - COMPRA no estabelecimento SUBW...</td>\n",
       "      <td>alimentação</td>\n",
       "    </tr>\n",
       "    <tr>\n",
       "      <th>...</th>\n",
       "      <td>...</td>\n",
       "      <td>...</td>\n",
       "    </tr>\n",
       "    <tr>\n",
       "      <th>138</th>\n",
       "      <td>COMPRA CARTAO - COMPRA no estabelecimento RIOC...</td>\n",
       "      <td>transporte</td>\n",
       "    </tr>\n",
       "    <tr>\n",
       "      <th>139</th>\n",
       "      <td>APLICACAO - LCI LIQ 90 DIAS BANCO INTER SA</td>\n",
       "      <td>LCI</td>\n",
       "    </tr>\n",
       "    <tr>\n",
       "      <th>140</th>\n",
       "      <td>COMPRA CARTAO - COMPRA no estabelecimento CASA...</td>\n",
       "      <td>eletrônicos</td>\n",
       "    </tr>\n",
       "    <tr>\n",
       "      <th>141</th>\n",
       "      <td>COMPRA CARTAO - COMPRA no estabelecimento CARR...</td>\n",
       "      <td>roupas</td>\n",
       "    </tr>\n",
       "    <tr>\n",
       "      <th>142</th>\n",
       "      <td>COMPRA CARTAO - COMPRA no estabelecimento BRON...</td>\n",
       "      <td>saúde</td>\n",
       "    </tr>\n",
       "  </tbody>\n",
       "</table>\n",
       "<p>143 rows × 2 columns</p>\n",
       "</div>"
      ],
      "text/plain": [
       "                                        DS_Description  DS_Category\n",
       "0    COMPRA CARTAO - COMPRA no estabelecimento BK N...  alimentação\n",
       "1    COMPRA CARTAO - COMPRA no estabelecimento SHOW...  alimentação\n",
       "2    COMPRA CARTAO - COMPRA no estabelecimento IFD*...  alimentação\n",
       "3    COMPRA CARTAO - COMPRA no estabelecimento ESTR...  alimentação\n",
       "4    COMPRA CARTAO - COMPRA no estabelecimento SUBW...  alimentação\n",
       "..                                                 ...          ...\n",
       "138  COMPRA CARTAO - COMPRA no estabelecimento RIOC...   transporte\n",
       "139         APLICACAO - LCI LIQ 90 DIAS BANCO INTER SA          LCI\n",
       "140  COMPRA CARTAO - COMPRA no estabelecimento CASA...  eletrônicos\n",
       "141  COMPRA CARTAO - COMPRA no estabelecimento CARR...       roupas\n",
       "142  COMPRA CARTAO - COMPRA no estabelecimento BRON...        saúde\n",
       "\n",
       "[143 rows x 2 columns]"
      ]
     },
     "execution_count": 77,
     "metadata": {},
     "output_type": "execute_result"
    }
   ],
   "source": [
    "\n",
    "# [{'cat': 'DESPESA FIXA', 'cat_parent': None, 'level': 1, 'value': 'Aluguel'},"
   ]
  },
  {
   "cell_type": "code",
   "execution_count": null,
   "metadata": {},
   "outputs": [],
   "source": []
  },
  {
   "cell_type": "code",
   "execution_count": null,
   "metadata": {},
   "outputs": [],
   "source": []
  }
 ],
 "metadata": {
  "interpreter": {
   "hash": "03f2ec16133f1c867feeb861713b80c6d96a289df8f209b1e07da75b5b4b9b1b"
  },
  "kernelspec": {
   "display_name": "Python 3.9.5 64-bit ('pegasus': virtualenv)",
   "name": "python3"
  },
  "language_info": {
   "codemirror_mode": {
    "name": "ipython",
    "version": 3
   },
   "file_extension": ".py",
   "mimetype": "text/x-python",
   "name": "python",
   "nbconvert_exporter": "python",
   "pygments_lexer": "ipython3",
   "version": "3.9.5"
  },
  "orig_nbformat": 4
 },
 "nbformat": 4,
 "nbformat_minor": 2
}
