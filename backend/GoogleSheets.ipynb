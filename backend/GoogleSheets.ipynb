{
 "cells": [
  {
   "cell_type": "code",
   "execution_count": 1,
   "metadata": {},
   "outputs": [
    {
     "name": "stdout",
     "output_type": "stream",
     "text": [
      "Connecting to Pegasus - DEV\n",
      "User email: pedrohenriquebraga735@gmail.com\n",
      "Credentials file url: https://drive.google.com/uc?id=1ynfHJ2gHGWums2B8I3sS4Py8AnfcZPJh&export=download\n",
      "Environment: dev\n"
     ]
    }
   ],
   "source": [
    "\n",
    "from api.db_connection import Connection\n",
    "con = Connection.get_connection()\n",
    "\n",
    "\n"
   ]
  },
  {
   "cell_type": "code",
   "execution_count": 2,
   "metadata": {},
   "outputs": [
    {
     "name": "stdout",
     "output_type": "stream",
     "text": [
      "TBL_Transactions\n",
      "DW_Base\n"
     ]
    }
   ],
   "source": [
    "from database.entities import TBL_Transactions,DW_Base\n",
    "from database.sheetsorm.decorators import column\n",
    "import pandas as pd \n",
    "transactions = con.get_repository(TBL_Transactions).get_all()\n",
    "base = con.get_repository(DW_Base)\n",
    "base.clear()\n",
    "\n",
    "for transaction in transactions:\n",
    "    b = DW_Base(ID_Account= transaction.ID_Account,\n",
    "        DT_TransactionDate = transaction.DT_TransactionDate,\n",
    "        DS_Description = transaction.DS_Description,\n",
    "        NR_Value = -transaction.NR_Amount if transaction.CD_Type == 'Expense' else transaction.NR_Amount,\n",
    "        NR_Balance = transaction.NR_Balance)\n",
    "    base.add(b)\n",
    "\n",
    "base.commit()\n"
   ]
  },
  {
   "cell_type": "code",
   "execution_count": null,
   "metadata": {},
   "outputs": [],
   "source": []
  }
 ],
 "metadata": {
  "interpreter": {
   "hash": "03f2ec16133f1c867feeb861713b80c6d96a289df8f209b1e07da75b5b4b9b1b"
  },
  "kernelspec": {
   "display_name": "Python 3.9.5 64-bit ('pegasus': virtualenv)",
   "name": "python3"
  },
  "language_info": {
   "codemirror_mode": {
    "name": "ipython",
    "version": 3
   },
   "file_extension": ".py",
   "mimetype": "text/x-python",
   "name": "python",
   "nbconvert_exporter": "python",
   "pygments_lexer": "ipython3",
   "version": "3.9.5"
  },
  "orig_nbformat": 4
 },
 "nbformat": 4,
 "nbformat_minor": 2
}
