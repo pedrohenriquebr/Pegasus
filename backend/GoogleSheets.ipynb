{
 "cells": [
  {
   "cell_type": "code",
   "execution_count": 2,
   "metadata": {},
   "outputs": [],
   "source": [
    "\n",
    "from database.sheetsorm.orm import SheetsORM\n",
    "import os\n",
    "import pandas as pd\n",
    "SPREADSHEET_NAME  = os.getenv('SPREADSHEET_NAME','Pegasus - DEV')\n",
    "USER_EMAIL = os.getenv('USER_EMAIL', 'pedrohenriquebraga735@gmail.com')\n",
    "\n",
    "db = SheetsORM(scope=['https://spreadsheets.google.com/feeds','https://www.googleapis.com/auth/drive'],\n",
    "            credentials_file='database/credentials.json', spreadsheet_name=SPREADSHEET_NAME)\n",
    "db.connect(create_if_not_exist=True)\n",
    "try:\n",
    "    db.share(USER_EMAIL,perm_type='user', role='owner')\n",
    "except:\n",
    "    pass\n",
    "\n",
    "\n",
    "\n"
   ]
  },
  {
   "cell_type": "code",
   "execution_count": 3,
   "metadata": {},
   "outputs": [],
   "source": [
    "\n",
    "from datetime import datetime\n",
    "from database.sheetsorm.decorators import entity, column\n",
    "\n",
    "@entity()\n",
    "class TBL_Account:\n",
    "    @column(primary_key=True)\n",
    "    def ID_Account(self) -> int:\n",
    "       pass\n",
    "    \n",
    "    @column()\n",
    "    def ID_AccountGroup(self) -> int:\n",
    "       pass\n",
    "\n",
    "    @column()\n",
    "    def DT_CreatedDate(self) -> datetime:\n",
    "         pass\n",
    "\n",
    "    @column()\n",
    "    def NR_InitialAmount(self) -> float:\n",
    "         pass\n",
    "\n",
    "    @column(length=250)\n",
    "    def DS_Name(self) -> str:\n",
    "        pass\n",
    "\n",
    "    @column()\n",
    "    def NR_Number(self) -> str:\n",
    "        pass\n",
    "\n",
    "    @column(length=250)\n",
    "    def DS_BankOfficeNumber(self) -> str:\n",
    "        pass\n",
    "\n",
    "    @column(length=250)\n",
    "    def DS_Bank(self) -> str:\n",
    "        pass\n",
    "\n",
    "\n"
   ]
  },
  {
   "cell_type": "code",
   "execution_count": 4,
   "metadata": {},
   "outputs": [],
   "source": [
    "repo = db.get_repository(TBL_Account)\n",
    "data = repo.get_all()\n"
   ]
  },
  {
   "cell_type": "code",
   "execution_count": 5,
   "metadata": {},
   "outputs": [],
   "source": [
    "x = repo.find(lambda x: x.ID_Account == 5)[0]\n",
    "repo.remove(x)\n",
    "repo.commit()"
   ]
  }
 ],
 "metadata": {
  "interpreter": {
   "hash": "03f2ec16133f1c867feeb861713b80c6d96a289df8f209b1e07da75b5b4b9b1b"
  },
  "kernelspec": {
   "display_name": "Python 3.9.5 64-bit ('pegasus': virtualenv)",
   "name": "python3"
  },
  "language_info": {
   "codemirror_mode": {
    "name": "ipython",
    "version": 3
   },
   "file_extension": ".py",
   "mimetype": "text/x-python",
   "name": "python",
   "nbconvert_exporter": "python",
   "pygments_lexer": "ipython3",
   "version": "3.9.5"
  },
  "orig_nbformat": 4
 },
 "nbformat": 4,
 "nbformat_minor": 2
}
